{
 "cells": [
  {
   "cell_type": "code",
   "execution_count": 28,
   "id": "95ec6acb",
   "metadata": {},
   "outputs": [],
   "source": [
    "import numpy as np\n",
    "import pandas as pd"
   ]
  },
  {
   "cell_type": "code",
   "execution_count": 29,
   "id": "588a5c13",
   "metadata": {},
   "outputs": [],
   "source": [
    "class DecisionStump:\n",
    "    def __init__(self):\n",
    "        self.polarity = 1 #determine the driection of the deicion(left or right)\n",
    "        self.feature_idx = None #ndex of the feature that the decision stump considers for splitting\n",
    "        self.alpha = None #weight of the decision stump\n",
    "        self.threshold = None #initial threshold value to make spliting decisions\n",
    "        \n",
    "    def predict(self, X):\n",
    "        n_samples, n_features = X.shape\n",
    "        X_column = X[:, self.feature_idx]\n",
    "        predictions = np.ones(n_samples)\n",
    "        if self.polarity == 1:\n",
    "            predictions[X_column < self.threshold] = -1\n",
    "        else:\n",
    "            predictions[X_column > self.threshold] = -1\n",
    "        return predictions"
   ]
  },
  {
   "cell_type": "code",
   "execution_count": 38,
   "id": "cb3d96ba",
   "metadata": {},
   "outputs": [],
   "source": [
    "class Adaboost:\n",
    "    def __init__(self, n_clf = 5):\n",
    "        self.n_clf = n_clf #no. of decision stumps or weak learners\n",
    "        self.clfs = [] #empty list to store the decision stumps\n",
    "    \n",
    "    #Training the Adaboost model\n",
    "    def fit(self, X, y):\n",
    "        n_samples, n_features = X.shape\n",
    "        \n",
    "        #create a array of n_samples length and calculate the weight\n",
    "        w = np.full(n_samples, (1/n_samples)) \n",
    "        \n",
    "        self.clfs = []\n",
    "        \n",
    "        #iterate n_clf times over the specified value to find the best decision stump\n",
    "        for _ in range(self.n_clf):\n",
    "            clf = DecisionStump()\n",
    "            min_error = float(\"inf\")\n",
    "            \n",
    "            for feature_i in range(n_features):\n",
    "                X_column = X[:, feature_i] #Extracts the values of the feature \"feature_i\" for all samples\n",
    "                thresholds = np.unique(X_column) #find unique threshold values for splitting the data\n",
    "                \n",
    "                for threshold in thresholds:\n",
    "                    #determine the direction f the decision (polarity)\n",
    "                    p = 1\n",
    "                    \n",
    "                    predictions = np.ones(n_samples) #default prediction is an array of ones\n",
    "                    \n",
    "                    #if the current value < threshold then set the prediction to -1\n",
    "                    predictions[X_column < threshold] = -1\n",
    "                    \n",
    "                    #Calculate error\n",
    "                    #assign the weight of the misclassified samples and add a bollean mask and calculate the total error\n",
    "                    error = np.sum(w[y != predictions])\n",
    "\n",
    "                    \n",
    "                    #change the polarity to -1 if the error is greater than 0.5 better for error\n",
    "                    if error > 0.5:\n",
    "                        error = 1 - error\n",
    "                        p = -1\n",
    "                        \n",
    "                    if error < min_error:\n",
    "                        clf.polarity = p\n",
    "                        clf.threshold = threshold\n",
    "                        clf.feature_idx = feature_i\n",
    "                        min_error = error\n",
    "\n",
    "                        \n",
    "            clf.alpha = 0.5 * np.log((1.0 - min_error + 1e-10) / (min_error + 1e-10))\n",
    "            predictions = clf.predict(X)\n",
    "          \n",
    "            #update the weights. Misclassified ssamples recieve higher weights.            \n",
    "            w = (w * np.exp(-clf.alpha * y * clf.predict(X))) / np.sum(w) #Normalizing the updated weights by dividing\n",
    "\n",
    "            self.clfs.append(clf)\n",
    "                                    \n",
    "                \n",
    "    def predict(self, X):\n",
    "        clf_preds = [clf.alpha * clf.predict(X) for clf in self.clfs]\n",
    "        y_pred = np.sum(clf_preds, axis=0)\n",
    "        y_pred = np.sign(y_pred) #if the output is positive the prediction is +1 else -1\n",
    "        \n",
    "        return y_pred\n"
   ]
  },
  {
   "cell_type": "code",
   "execution_count": 39,
   "id": "d75807cf",
   "metadata": {},
   "outputs": [
    {
     "name": "stdout",
     "output_type": "stream",
     "text": [
      "Accuracy: 0.9385964912280702\n"
     ]
    }
   ],
   "source": [
    "from sklearn import datasets\n",
    "from sklearn.model_selection import train_test_split\n",
    "\n",
    "def accuracy(y_true, y_pred):\n",
    "    accuracy = np.sum(y_true == y_pred) / len(y_true)\n",
    "    return accuracy\n",
    "\n",
    "data = datasets.load_breast_cancer()\n",
    "X, y = data.data, data.target\n",
    "\n",
    "y[y==0] = -1\n",
    "\n",
    "X_train, X_test, y_train, y_test = train_test_split(X, y, test_size=0.2, random_state=0)\n",
    "\n",
    "clf = Adaboost(n_clf=5)\n",
    "clf.fit(X_train, y_train)\n",
    "y_pred = clf.predict(X_test)\n",
    "\n",
    "acc = accuracy(y_test, y_pred)\n",
    "print(\"Accuracy:\", acc)"
   ]
  },
  {
   "cell_type": "code",
   "execution_count": null,
   "id": "fa1c7518",
   "metadata": {},
   "outputs": [],
   "source": []
  },
  {
   "cell_type": "code",
   "execution_count": null,
   "id": "5104367c",
   "metadata": {},
   "outputs": [],
   "source": []
  }
 ],
 "metadata": {
  "kernelspec": {
   "display_name": "Python 3 (ipykernel)",
   "language": "python",
   "name": "python3"
  },
  "language_info": {
   "codemirror_mode": {
    "name": "ipython",
    "version": 3
   },
   "file_extension": ".py",
   "mimetype": "text/x-python",
   "name": "python",
   "nbconvert_exporter": "python",
   "pygments_lexer": "ipython3",
   "version": "3.11.5"
  }
 },
 "nbformat": 4,
 "nbformat_minor": 5
}
